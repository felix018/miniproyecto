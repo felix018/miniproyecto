{
  "nbformat": 4,
  "nbformat_minor": 0,
  "metadata": {
    "colab": {
      "provenance": []
    },
    "kernelspec": {
      "name": "python3",
      "display_name": "Python 3"
    },
    "language_info": {
      "name": "python"
    }
  },
  "cells": [
    {
      "cell_type": "markdown",
      "source": [
        "### **Miniproyecto1**\n",
        "\n",
        "Santiago Montoya Londoño\n",
        "\n",
        "Hanna Isabella Colorado M.\n",
        "\n",
        "**cc:** 1037672299\n",
        "\n",
        "**cc:** 1000408557"
      ],
      "metadata": {
        "id": "ftCa-0yk8qln"
      }
    },
    {
      "cell_type": "code",
      "source": [
        "#Descarga archivo base de dadtos\n",
        "\n",
        "#https://drive.google.com/file/d/1bMObQcIFrNalRmD1LaNuqVSTeqaeGqR3/view?usp=drive_link\n",
        "!gdown '1bMObQcIFrNalRmD1LaNuqVSTeqaeGqR3'"
      ],
      "metadata": {
        "id": "IMHY8YZU86FM",
        "colab": {
          "base_uri": "https://localhost:8080/"
        },
        "outputId": "466d936f-9b67-429c-fdc5-4abc7e272c8f"
      },
      "execution_count": null,
      "outputs": [
        {
          "output_type": "stream",
          "name": "stdout",
          "text": [
            "Downloading...\n",
            "From: https://drive.google.com/uc?id=1bMObQcIFrNalRmD1LaNuqVSTeqaeGqR3\n",
            "To: /content/s17.mat\n",
            "100% 80.7M/80.7M [00:00<00:00, 84.6MB/s]\n"
          ]
        }
      ]
    },
    {
      "cell_type": "code",
      "source": [
        "import numpy as np\n",
        "import matplotlib.pyplot as plt\n",
        "import scipy.io as sc\n",
        "import scipy.signal as signal\n",
        "import seaborn as sns\n",
        "import pandas as pd\n",
        "\n",
        "datos=sc.loadmat('s17.mat')\n",
        "signals=datos['data']\n",
        "etiquetas=datos['labels']\n",
        "valencia=etiquetas[:,0]\n",
        "arousal=etiquetas[:,1]"
      ],
      "metadata": {
        "id": "D2qlT7NnB2O8"
      },
      "execution_count": null,
      "outputs": []
    },
    {
      "cell_type": "code",
      "source": [
        "def caracteristicas(signal):   #40x6528\n",
        "  GSR=signal[36,:]\n",
        "  xGSR=[]\n",
        "  media=np.mean(GSR)\n",
        "  xGSR.append(media)\n",
        "  derivative=np.mean(np.diff(GSR))\n",
        "  xGSR.append(derivative)\n",
        "\n",
        "  fc=2.4\n",
        "  fs=128\n",
        "  wn=2*fc/fs\n",
        "  filter=signal.butter(7, wn, btype='lowpass', analog=False, fs=fs, output='sos')\n",
        "  filtered = signal.sosfilt(filter, GSR)\n",
        "\n",
        "  f, t, Zxx = signal.stft(filtered, fs, nperseg=512) # generar STFT\n",
        "\n",
        "  xPleth=[]\n",
        "  pleth=signal[38,:]\n",
        "  media=np.mean(pleth)\n",
        "  des=np.std(pleth)\n",
        "  xPleth.append(media)\n",
        "  xPleth.append(des)\n",
        "  media=np.mean(np.diff(pleth))\n",
        "  des=np.std(np.diff(pleth))\n",
        "  xPleth.append(media)\n",
        "  xPleth.append(des)\n",
        "\n",
        "  xRes=[]\n",
        "  res=signal[37,:]\n",
        "  derivative=np.mean(np.diff(res))\n",
        "  xRes.append(derivative)\n",
        "\n",
        "  peaks,_=signal.find_peaks(res,distance=128, height=0)\n",
        "  time=[]\n",
        "  for i in range(len(peaks)-1):\n",
        "    time.append((peaks[i+1]-peaks[i])/fs)\n",
        "  media=np.mean(time)\n",
        "  xRes.append(media)\n",
        "\n",
        "  xTemp=[]\n",
        "  temp=signal[39,:]\n",
        "  media=np.mean(temp)\n",
        "  derivative=np.mean(np.diff(temp))\n",
        "  xTemp.append(media)\n",
        "  xTemp.append(derivative)\n",
        "\n",
        "  xEOG=[]\n",
        "  xEMG=[]\n",
        "  hEOG=signal[32,:]\n",
        "  vEOG=signal[33,:]\n",
        "\n",
        "  zEMG=signal[34,:]\n",
        "  tEMG=signal[35,:]\n",
        "\n",
        "  M=[hEOG,vEOG,zEMG,tEMG]\n",
        "  for i in range(4):\n",
        "    energy=np.sum(np.abs(M[i])**2)\n",
        "    media=np.mean(M[i])\n",
        "    variance=np.std(M[i])**2\n",
        "    if i==0 or i==1:\n",
        "      xEOG.append(energy)\n",
        "      xEOG.append(media)\n",
        "      xEOG.append(variance)\n",
        "    else:\n",
        "      xEMG.append(energy)\n",
        "      xEMG.append(media)\n",
        "      xEMG.append(variance)"
      ],
      "metadata": {
        "id": "h_D6FBo6xzJH"
      },
      "execution_count": null,
      "outputs": []
    },
    {
      "cell_type": "code",
      "source": [
        "gsr=signals[0,36,:]\n",
        "fc=2.4\n",
        "fs=128\n",
        "wn=2*fc/fs\n",
        "filter=signal.butter(7, wn, btype='lowpass', analog=False, fs=fs, output='sos')\n",
        "filtered = signal.sosfilt(filter, gsr)\n",
        "\n",
        "f, t, Zxx = signal.stft(filtered, fs, nperseg=512) # generar STFT\n",
        "power=(np.abs(Zxx)**2)/len(Zxx)\n",
        "\n",
        "prueba=[]\n",
        "pleth=signals[0,38,:]\n",
        "media=np.mean(pleth)\n",
        "des=np.std(pleth)\n",
        "\n",
        "res=signals[0,37,:]\n",
        "derivative=np.mean(np.diff(res))\n",
        "\n",
        "peaks,_=signal.find_peaks(res,distance=128, height=0)\n",
        "time=[]\n",
        "for i in range(len(peaks)-1):\n",
        "  time.append((peaks[i+1]-peaks[i])/fs)\n",
        "print(np.mean(time))\n",
        "\n",
        "temp=signals[0,39,:]\n",
        "\n",
        "hEOG=signals[0,32,:]\n",
        "vEOG=signals[0,33,:]\n",
        "\n",
        "zEMG=signals[0,34,:]\n",
        "tEMG=signals[0,35,:]\n",
        "\n",
        "xEOG=[]\n",
        "xEMG=[]\n",
        "M=[hEOG,vEOG,zEMG,tEMG]\n",
        "for i in range(4):\n",
        "  energy=np.sum(np.abs(M[i])**2)\n",
        "  media=np.mean(M[i])\n",
        "  variance=np.std(M[i])**2\n",
        "  if i==0 or i==1:\n",
        "    xEOG.append(energy)\n",
        "    xEOG.append(media)\n",
        "    xEOG.append(variance)\n",
        "  else:\n",
        "    xEMG.append(energy)\n",
        "    xEMG.append(media)\n",
        "    xEMG.append(variance)\n",
        "\n",
        "peaks,_=signal.find_peaks(vEOG,distance=250)\n",
        "plt.plot(vEOG)\n",
        "plt.plot(peaks, vEOG[peaks], \"x\")\n",
        "plt.show()\n",
        "print(xEOG)\n",
        "print(xEMG)"
      ],
      "metadata": {
        "colab": {
          "base_uri": "https://localhost:8080/",
          "height": 499
        },
        "id": "1gYLm2ai8fxP",
        "outputId": "3a53da02-7256-4c14-cf93-5ef5a08f3316"
      },
      "execution_count": null,
      "outputs": [
        {
          "output_type": "stream",
          "name": "stdout",
          "text": [
            "1.4265625\n"
          ]
        },
        {
          "output_type": "display_data",
          "data": {
            "text/plain": [
              "<Figure size 640x480 with 1 Axes>"
            ],
            "image/png": "[encoded data removed]"
          },
          "metadata": {}
        },
        {
          "output_type": "stream",
          "name": "stdout",
          "text": [
            "[142173392.15895492, -107.96248050643713, 10123.115082148855, 3825970180.3018503, 675.3741015353701, 129955.9412813347]\n",
            "[766940634.1128076, -316.47444108517305, 17328.70664975496, 310552774.7363242, 186.51995732665324, 12782.728119403317]\n",
            "(257, 27)\n"
          ]
        }
      ]
    }
  ]
}